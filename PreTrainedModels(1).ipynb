{
 "cells": [
  {
   "cell_type": "markdown",
   "metadata": {},
   "source": [
    "## Import packages"
   ]
  },
  {
   "cell_type": "code",
   "execution_count": null,
   "metadata": {
    "id": "M2GVeDv3UqEU"
   },
   "outputs": [],
   "source": [
    "import tensorflow as tf\n",
    "from tensorflow.keras import datasets, layers, models\n",
    "import matplotlib.pyplot as plt\n",
    "import numpy as np\n",
    "import pandas as pd\n",
    "import cv2\n",
    "import numpy as np\n",
    "import seaborn as sns"
   ]
  },
  {
   "cell_type": "code",
   "execution_count": null,
   "metadata": {
    "colab": {
     "base_uri": "https://localhost:8080/"
    },
    "id": "FXK3bFExVJX_",
    "outputId": "7acc1679-0ac8-41ed-c582-367abe91b470"
   },
   "outputs": [
    {
     "name": "stdout",
     "output_type": "stream",
     "text": [
      "Downloading data from https://www.cs.toronto.edu/~kriz/cifar-10-python.tar.gz\n",
      "170500096/170498071 [==============================] - 13s 0us/step\n",
      "170508288/170498071 [==============================] - 13s 0us/step\n"
     ]
    },
    {
     "data": {
      "text/plain": [
       "(50000, 32, 32, 3)"
      ]
     },
     "execution_count": 2,
     "metadata": {},
     "output_type": "execute_result"
    }
   ],
   "source": [
    "(X_train,y_train),(X_test,y_test)=datasets.cifar10.load_data()\n",
    "X_train.shape"
   ]
  },
  {
   "cell_type": "code",
   "execution_count": null,
   "metadata": {
    "id": "Nn8xwTNtXZ4N"
   },
   "outputs": [],
   "source": [
    "y_train = y_train.reshape(-1,)\n",
    "y_train[:5]\n",
    "y_test = y_test.reshape(-1,)"
   ]
  },
  {
   "cell_type": "code",
   "execution_count": null,
   "metadata": {
    "id": "yDPAZBlNWUuw"
   },
   "outputs": [],
   "source": [
    "X_train = X_train/255\n",
    "X_test = X_test/255"
   ]
  },
  {
   "cell_type": "code",
   "execution_count": null,
   "metadata": {
    "id": "dgPZI1YzLpO-"
   },
   "outputs": [],
   "source": [
    "classes = [\"airplane\", \"automobile\", \"bird\", \"cat\", \"deer\", \"dog\",\"frog\", \"horse\", \"ship\",\"truck\"]"
   ]
  },
  {
   "cell_type": "markdown",
   "metadata": {},
   "source": [
    "## Inception model"
   ]
  },
  {
   "cell_type": "code",
   "execution_count": null,
   "metadata": {
    "colab": {
     "base_uri": "https://localhost:8080/"
    },
    "id": "IfxY0rtqS8F6",
    "outputId": "7bfd83a4-0730-48ff-e3e9-6fc72bf442ac"
   },
   "outputs": [
    {
     "name": "stdout",
     "output_type": "stream",
     "text": [
      "Downloading data from https://storage.googleapis.com/tensorflow/keras-applications/inception_v3/inception_v3_weights_tf_dim_ordering_tf_kernels.h5\n",
      "96116736/96112376 [==============================] - 4s 0us/step\n",
      "96124928/96112376 [==============================] - 4s 0us/step\n",
      "Epoch 1/20\n",
      "50/50 [==============================] - 54s 602ms/step - loss: 1.5224 - accuracy: 0.5472\n",
      "Epoch 2/20\n",
      "50/50 [==============================] - 31s 616ms/step - loss: 0.9246 - accuracy: 0.6732\n",
      "Epoch 3/20\n",
      "50/50 [==============================] - 32s 632ms/step - loss: 0.7387 - accuracy: 0.7440\n",
      "Epoch 4/20\n",
      "50/50 [==============================] - 32s 647ms/step - loss: 0.7077 - accuracy: 0.7500\n",
      "Epoch 5/20\n",
      "50/50 [==============================] - 33s 658ms/step - loss: 0.6788 - accuracy: 0.7716\n",
      "Epoch 6/20\n",
      "50/50 [==============================] - 33s 652ms/step - loss: 0.6184 - accuracy: 0.7972\n",
      "Epoch 7/20\n",
      "50/50 [==============================] - 33s 654ms/step - loss: 0.5639 - accuracy: 0.8064\n",
      "Epoch 8/20\n",
      "50/50 [==============================] - 33s 656ms/step - loss: 0.5378 - accuracy: 0.8220\n",
      "Epoch 9/20\n",
      "50/50 [==============================] - 33s 656ms/step - loss: 0.5357 - accuracy: 0.8156\n",
      "Epoch 10/20\n",
      "50/50 [==============================] - 33s 656ms/step - loss: 0.5111 - accuracy: 0.8312\n",
      "Epoch 11/20\n",
      "50/50 [==============================] - 33s 655ms/step - loss: 0.5214 - accuracy: 0.8220\n",
      "Epoch 12/20\n",
      "50/50 [==============================] - 33s 655ms/step - loss: 0.5156 - accuracy: 0.8244\n",
      "Epoch 13/20\n",
      "50/50 [==============================] - 33s 655ms/step - loss: 0.4711 - accuracy: 0.8408\n",
      "Epoch 14/20\n",
      "50/50 [==============================] - 33s 655ms/step - loss: 0.5055 - accuracy: 0.8288\n",
      "Epoch 15/20\n",
      "50/50 [==============================] - 33s 654ms/step - loss: 0.4782 - accuracy: 0.8460\n",
      "Epoch 16/20\n",
      "50/50 [==============================] - 33s 654ms/step - loss: 0.4641 - accuracy: 0.8424\n",
      "Epoch 17/20\n",
      "50/50 [==============================] - 33s 654ms/step - loss: 0.4387 - accuracy: 0.8488\n",
      "Epoch 18/20\n",
      "50/50 [==============================] - 33s 655ms/step - loss: 0.4288 - accuracy: 0.8552\n",
      "Epoch 19/20\n",
      "50/50 [==============================] - 33s 654ms/step - loss: 0.4489 - accuracy: 0.8436\n",
      "Epoch 20/20\n",
      "50/50 [==============================] - 33s 655ms/step - loss: 0.3969 - accuracy: 0.8664\n"
     ]
    }
   ],
   "source": [
    "Inception = tf.keras.applications.InceptionV3(input_shape=(299,299,3))\n",
    "\n",
    "model = models.Sequential()\n",
    "model.add(layers.Resizing(299,299))\n",
    "model.add(Inception)\n",
    "\n",
    "model.compile('adam',loss = 'sparse_categorical_crossentropy',metrics = ['accuracy'])\n",
    "\n",
    "inception = model.fit(X_train,y_train,epochs = 20,steps_per_epoch=50,batch_size= 50)\n",
    "\n",
    "inception_accuracy = inception.history['accuracy']\n",
    "inception_epochs = inception.epoch\n",
    "\n",
    "inception_data = pd.DataFrame({\"Accuracy\":inception_accuracy,\"Epochs\":inception_epochs})\n",
    "inception_data.to_csv('inception.csv')"
   ]
  },
  {
   "cell_type": "code",
   "execution_count": null,
   "metadata": {
    "colab": {
     "base_uri": "https://localhost:8080/"
    },
    "id": "ufln6QwQ8Mqw",
    "outputId": "31c481fb-d36d-4735-cc3f-d9c369e4fa49"
   },
   "outputs": [
    {
     "name": "stdout",
     "output_type": "stream",
     "text": [
      "313/313 [==============================] - 40s 116ms/step - loss: 0.7694 - accuracy: 0.7621\n"
     ]
    }
   ],
   "source": [
    "test_inception = model.evaluate(X_test,y_test)"
   ]
  },
  {
   "cell_type": "markdown",
   "metadata": {},
   "source": [
    "## Xception"
   ]
  },
  {
   "cell_type": "code",
   "execution_count": null,
   "metadata": {
    "colab": {
     "base_uri": "https://localhost:8080/"
    },
    "id": "-o2BhVhCnLEV",
    "outputId": "cb5d1249-723a-4491-ee14-7e8436c55125"
   },
   "outputs": [
    {
     "name": "stdout",
     "output_type": "stream",
     "text": [
      "Downloading data from https://storage.googleapis.com/tensorflow/keras-applications/xception/xception_weights_tf_dim_ordering_tf_kernels.h5\n",
      "91889664/91884032 [==============================] - 3s 0us/step\n",
      "91897856/91884032 [==============================] - 3s 0us/step\n",
      "Epoch 1/20\n",
      "50/50 [==============================] - 39s 659ms/step - loss: 0.4915 - accuracy: 0.8284\n",
      "Epoch 2/20\n",
      "50/50 [==============================] - 33s 659ms/step - loss: 0.5154 - accuracy: 0.8268\n",
      "Epoch 3/20\n",
      "50/50 [==============================] - 33s 651ms/step - loss: 0.4342 - accuracy: 0.8516\n",
      "Epoch 4/20\n",
      "50/50 [==============================] - 33s 657ms/step - loss: 0.4360 - accuracy: 0.8560\n",
      "Epoch 5/20\n",
      "50/50 [==============================] - 33s 654ms/step - loss: 0.4121 - accuracy: 0.8540\n",
      "Epoch 6/20\n",
      "50/50 [==============================] - 33s 654ms/step - loss: 0.4376 - accuracy: 0.8532\n",
      "Epoch 7/20\n",
      "50/50 [==============================] - 33s 655ms/step - loss: 0.4054 - accuracy: 0.8656\n",
      "Epoch 8/20\n",
      "50/50 [==============================] - 33s 656ms/step - loss: 0.4052 - accuracy: 0.8576\n",
      "Epoch 9/20\n",
      "50/50 [==============================] - 33s 656ms/step - loss: 0.4279 - accuracy: 0.8520\n",
      "Epoch 10/20\n",
      "50/50 [==============================] - 33s 656ms/step - loss: 0.3908 - accuracy: 0.8644\n",
      "Epoch 11/20\n",
      "50/50 [==============================] - 33s 657ms/step - loss: 0.3989 - accuracy: 0.8672\n",
      "Epoch 12/20\n",
      "50/50 [==============================] - 33s 656ms/step - loss: 0.4070 - accuracy: 0.8628\n",
      "Epoch 13/20\n",
      "50/50 [==============================] - 33s 655ms/step - loss: 0.3769 - accuracy: 0.8636\n",
      "Epoch 14/20\n",
      "50/50 [==============================] - 33s 654ms/step - loss: 0.4377 - accuracy: 0.8500\n",
      "Epoch 15/20\n",
      "50/50 [==============================] - 33s 655ms/step - loss: 0.3774 - accuracy: 0.8708\n",
      "Epoch 16/20\n",
      "50/50 [==============================] - 33s 654ms/step - loss: 0.3675 - accuracy: 0.8732\n",
      "Epoch 17/20\n",
      "50/50 [==============================] - 33s 654ms/step - loss: 0.4008 - accuracy: 0.8636\n",
      "Epoch 18/20\n",
      "50/50 [==============================] - 33s 654ms/step - loss: 0.3494 - accuracy: 0.8880\n",
      "Epoch 19/20\n",
      "50/50 [==============================] - 33s 654ms/step - loss: 0.3326 - accuracy: 0.8832\n",
      "Epoch 20/20\n",
      "50/50 [==============================] - 33s 654ms/step - loss: 0.3691 - accuracy: 0.8788\n"
     ]
    }
   ],
   "source": [
    "Xception = tf.keras.applications.Xception(input_shape=(299,299,3))\n",
    "\n",
    "model = models.Sequential()\n",
    "model.add(layers.Resizing(299,299))\n",
    "model.add(Inception)\n",
    "\n",
    "model.compile('adam',loss = 'sparse_categorical_crossentropy',metrics = ['accuracy'])\n",
    "\n",
    "inception = model.fit(X_train,y_train,epochs = 20,steps_per_epoch=50,batch_size= 50)\n",
    "\n",
    "exception_accuracy = inception.history['accuracy']\n",
    "exception_epochs = inception.epoch\n",
    "\n",
    "exception_data = pd.DataFrame({\"Accuracy\":exception_accuracy,\"Epochs\":exception_epochs})\n",
    "exception_data.to_csv('exception.csv')"
   ]
  },
  {
   "cell_type": "code",
   "execution_count": null,
   "metadata": {
    "colab": {
     "base_uri": "https://localhost:8080/"
    },
    "id": "HizeKx9H6dIo",
    "outputId": "330023f5-6736-45e0-8092-e0454c0cb812"
   },
   "outputs": [
    {
     "name": "stdout",
     "output_type": "stream",
     "text": [
      "313/313 [==============================] - 37s 113ms/step - loss: 0.4334 - accuracy: 0.8527\n"
     ]
    }
   ],
   "source": [
    "exception_accuracy = model.evaluate(X_test,y_test)"
   ]
  },
  {
   "cell_type": "markdown",
   "metadata": {},
   "source": [
    "## MobileNet"
   ]
  },
  {
   "cell_type": "code",
   "execution_count": null,
   "metadata": {
    "colab": {
     "base_uri": "https://localhost:8080/"
    },
    "id": "0c77rB-T6kHj",
    "outputId": "0a933406-d209-4334-95d2-29dc3a6830da"
   },
   "outputs": [
    {
     "name": "stdout",
     "output_type": "stream",
     "text": [
      "Downloading data from https://storage.googleapis.com/tensorflow/keras-applications/mobilenet/mobilenet_1_0_224_tf.h5\n",
      "17227776/17225924 [==============================] - 1s 0us/step\n",
      "17235968/17225924 [==============================] - 1s 0us/step\n",
      "Epoch 1/20\n",
      "50/50 [==============================] - 18s 275ms/step - loss: 1.9847 - accuracy: 0.5832\n",
      "Epoch 2/20\n",
      "50/50 [==============================] - 14s 277ms/step - loss: 0.9121 - accuracy: 0.7256\n",
      "Epoch 3/20\n",
      "50/50 [==============================] - 14s 277ms/step - loss: 0.6309 - accuracy: 0.7988\n",
      "Epoch 4/20\n",
      "50/50 [==============================] - 14s 276ms/step - loss: 0.5765 - accuracy: 0.8104\n",
      "Epoch 5/20\n",
      "50/50 [==============================] - 14s 275ms/step - loss: 0.5475 - accuracy: 0.8224\n",
      "Epoch 6/20\n",
      "50/50 [==============================] - 14s 276ms/step - loss: 0.4732 - accuracy: 0.8416\n",
      "Epoch 7/20\n",
      "50/50 [==============================] - 14s 278ms/step - loss: 0.5160 - accuracy: 0.8220\n",
      "Epoch 8/20\n",
      "50/50 [==============================] - 14s 276ms/step - loss: 0.5033 - accuracy: 0.8316\n",
      "Epoch 9/20\n",
      "50/50 [==============================] - 14s 276ms/step - loss: 0.4114 - accuracy: 0.8568\n",
      "Epoch 10/20\n",
      "50/50 [==============================] - 14s 278ms/step - loss: 0.4247 - accuracy: 0.8616\n",
      "Epoch 11/20\n",
      "50/50 [==============================] - 14s 276ms/step - loss: 0.3926 - accuracy: 0.8684\n",
      "Epoch 12/20\n",
      "50/50 [==============================] - 14s 275ms/step - loss: 0.3864 - accuracy: 0.8664\n",
      "Epoch 13/20\n",
      "50/50 [==============================] - 14s 276ms/step - loss: 0.3661 - accuracy: 0.8720\n",
      "Epoch 14/20\n",
      "50/50 [==============================] - 14s 274ms/step - loss: 0.4062 - accuracy: 0.8608\n",
      "Epoch 15/20\n",
      "50/50 [==============================] - 14s 275ms/step - loss: 0.3887 - accuracy: 0.8664\n",
      "Epoch 16/20\n",
      "50/50 [==============================] - 14s 277ms/step - loss: 0.3672 - accuracy: 0.8784\n",
      "Epoch 17/20\n",
      "50/50 [==============================] - 14s 277ms/step - loss: 0.3504 - accuracy: 0.8792\n",
      "Epoch 18/20\n",
      "50/50 [==============================] - 14s 276ms/step - loss: 0.3518 - accuracy: 0.8848\n",
      "Epoch 19/20\n",
      "50/50 [==============================] - 14s 277ms/step - loss: 0.3661 - accuracy: 0.8748\n",
      "Epoch 20/20\n",
      "50/50 [==============================] - 14s 275ms/step - loss: 0.3390 - accuracy: 0.8844\n"
     ]
    }
   ],
   "source": [
    "MobileNet = tf.keras.applications.MobileNet(input_shape=(224,224,3))\n",
    "\n",
    "model = models.Sequential()\n",
    "model.add(layers.Resizing(224,224))\n",
    "model.add(MobileNet)\n",
    "\n",
    "model.compile('adam',loss = 'sparse_categorical_crossentropy',metrics = ['accuracy'])\n",
    "\n",
    "mobileNET = model.fit(X_train,y_train,epochs = 20,steps_per_epoch=50,batch_size= 50)\n",
    "\n",
    "mobilenet_accuracy = mobileNET.history['accuracy']\n",
    "mobilenet_epochs = mobileNET.epoch\n",
    "\n",
    "mobile_data = pd.DataFrame({\"Accuracy\":mobilenet_accuracy,\"Epochs\":mobilenet_epochs})\n",
    "mobile_data.to_csv('mnet.csv')"
   ]
  },
  {
   "cell_type": "code",
   "execution_count": null,
   "metadata": {
    "colab": {
     "base_uri": "https://localhost:8080/"
    },
    "id": "qVvvPGIotl-d",
    "outputId": "611fc9df-19db-4b09-8984-1e1d34ee6fb5"
   },
   "outputs": [
    {
     "name": "stdout",
     "output_type": "stream",
     "text": [
      "313/313 [==============================] - 11s 32ms/step - loss: 0.8920 - accuracy: 0.7580\n"
     ]
    }
   ],
   "source": [
    "mnet_test = model.evaluate(X_test,y_test)"
   ]
  }
 ],
 "metadata": {
  "accelerator": "GPU",
  "colab": {
   "collapsed_sections": [],
   "name": "PreTrainedModels",
   "provenance": []
  },
  "kernelspec": {
   "display_name": "Python 3",
   "language": "python",
   "name": "python3"
  },
  "language_info": {
   "codemirror_mode": {
    "name": "ipython",
    "version": 3
   },
   "file_extension": ".py",
   "mimetype": "text/x-python",
   "name": "python",
   "nbconvert_exporter": "python",
   "pygments_lexer": "ipython3",
   "version": "3.8.5"
  }
 },
 "nbformat": 4,
 "nbformat_minor": 1
}
