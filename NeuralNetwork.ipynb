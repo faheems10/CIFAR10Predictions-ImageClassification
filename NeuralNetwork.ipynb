{
 "cells": [
  {
   "cell_type": "markdown",
   "metadata": {},
   "source": [
    "## Import packages"
   ]
  },
  {
   "cell_type": "code",
   "execution_count": null,
   "metadata": {
    "id": "M2GVeDv3UqEU"
   },
   "outputs": [],
   "source": [
    "import tensorflow as tf\n",
    "from tensorflow.keras import datasets, layers, models\n",
    "import matplotlib.pyplot as plt\n",
    "import numpy as np\n",
    "import pandas as pd\n",
    "import cv2"
   ]
  },
  {
   "cell_type": "code",
   "execution_count": null,
   "metadata": {
    "colab": {
     "base_uri": "https://localhost:8080/"
    },
    "id": "FXK3bFExVJX_",
    "outputId": "d59fa1c5-0c3b-43e6-ee59-708b595ac7b0"
   },
   "outputs": [
    {
     "name": "stdout",
     "output_type": "stream",
     "text": [
      "Downloading data from https://www.cs.toronto.edu/~kriz/cifar-10-python.tar.gz\n",
      "170500096/170498071 [==============================] - 2s 0us/step\n",
      "170508288/170498071 [==============================] - 2s 0us/step\n"
     ]
    },
    {
     "data": {
      "text/plain": [
       "(50000, 32, 32, 3)"
      ]
     },
     "execution_count": 2,
     "metadata": {},
     "output_type": "execute_result"
    }
   ],
   "source": [
    "(X_train,y_train),(X_test,y_test)=datasets.cifar10.load_data()\n",
    "X_train.shape"
   ]
  },
  {
   "cell_type": "code",
   "execution_count": null,
   "metadata": {
    "colab": {
     "base_uri": "https://localhost:8080/"
    },
    "id": "zi8wTzLFVfRf",
    "outputId": "ab9dfa37-a0d6-4c99-a07d-90288cb8b99c"
   },
   "outputs": [
    {
     "data": {
      "text/plain": [
       "(10000, 32, 32, 3)"
      ]
     },
     "execution_count": 3,
     "metadata": {},
     "output_type": "execute_result"
    }
   ],
   "source": [
    "X_test.shape"
   ]
  },
  {
   "cell_type": "code",
   "execution_count": null,
   "metadata": {
    "colab": {
     "base_uri": "https://localhost:8080/"
    },
    "id": "DFKCHHNFXtfV",
    "outputId": "16a40918-a590-417f-fa3d-cd483c961bb6"
   },
   "outputs": [
    {
     "data": {
      "text/plain": [
       "array([[6],\n",
       "       [9],\n",
       "       [9],\n",
       "       [4],\n",
       "       [1]], dtype=uint8)"
      ]
     },
     "execution_count": 4,
     "metadata": {},
     "output_type": "execute_result"
    }
   ],
   "source": [
    "y_train[:5]"
   ]
  },
  {
   "cell_type": "code",
   "execution_count": null,
   "metadata": {
    "colab": {
     "base_uri": "https://localhost:8080/"
    },
    "id": "Nn8xwTNtXZ4N",
    "outputId": "4dc0663c-d6ee-4f9e-92e7-5e36c1465cd4"
   },
   "outputs": [
    {
     "data": {
      "text/plain": [
       "array([6, 9, 9, 4, 1], dtype=uint8)"
      ]
     },
     "execution_count": 5,
     "metadata": {},
     "output_type": "execute_result"
    }
   ],
   "source": [
    "y_train = y_train.reshape(-1,)\n",
    "y_train[:5]"
   ]
  },
  {
   "cell_type": "markdown",
   "metadata": {},
   "source": [
    "## Define classes"
   ]
  },
  {
   "cell_type": "code",
   "execution_count": null,
   "metadata": {
    "id": "dgPZI1YzLpO-"
   },
   "outputs": [],
   "source": [
    "classes = [\"airplane\", \"automobile\", \"bird\", \"cat\", \"deer\", \"dog\",\"frog\", \"horse\", \"ship\",\"truck\"]"
   ]
  },
  {
   "cell_type": "code",
   "execution_count": null,
   "metadata": {
    "id": "wPWy9KELLfAx"
   },
   "outputs": [],
   "source": [
    "# plt.figure(figsize = (10,10))\n",
    "# for i in range(20):\n",
    "#   plt.subplot(4,5,i+1)\n",
    "#   plt.imshow(X_train[i])\n",
    "#   plt.axis('off')\n",
    "#   plt.title(classes[y_train[i]])\n",
    "#   plt.savefig('Overview_image.png')"
   ]
  },
  {
   "cell_type": "code",
   "execution_count": null,
   "metadata": {
    "id": "SMhQBPZVWj8F"
   },
   "outputs": [],
   "source": [
    "# classes = [\"airplane\", \"automobile\", \"bird\", \"cat\", \"deer\", \"dog\",\"frog\", \"horse\", \"ship\",\"truck\"]"
   ]
  },
  {
   "cell_type": "code",
   "execution_count": null,
   "metadata": {
    "id": "QdurV-qZY3bv"
   },
   "outputs": [],
   "source": [
    "# classes[9]"
   ]
  },
  {
   "cell_type": "code",
   "execution_count": null,
   "metadata": {
    "id": "qMMxKDMUVzYz"
   },
   "outputs": [],
   "source": [
    "# def plot_sample(X,y,index):\n",
    "#   plt.figure(figsize = (15,2))\n",
    "#   plt.imshow(X[index])\n",
    "#   plt.xlabel(classes[y[index]])"
   ]
  },
  {
   "cell_type": "code",
   "execution_count": null,
   "metadata": {
    "id": "_hxDQ7aBWCnA"
   },
   "outputs": [],
   "source": [
    "# plot_sample(X_train, y_train, 0)"
   ]
  },
  {
   "cell_type": "code",
   "execution_count": null,
   "metadata": {
    "id": "WCDGKgXsZqFk"
   },
   "outputs": [],
   "source": [
    "# plot_sample(X_train, y_train, 1)"
   ]
  },
  {
   "cell_type": "code",
   "execution_count": null,
   "metadata": {
    "id": "8dbnomKGZu5B"
   },
   "outputs": [],
   "source": [
    "# plot_sample(X_train, y_train, 3)"
   ]
  },
  {
   "cell_type": "markdown",
   "metadata": {},
   "source": [
    "## Scale the images"
   ]
  },
  {
   "cell_type": "code",
   "execution_count": null,
   "metadata": {
    "id": "Y89LkYUXZym4"
   },
   "outputs": [],
   "source": [
    "X_train = X_train/255\n",
    "X_test = X_test/255"
   ]
  },
  {
   "cell_type": "code",
   "execution_count": null,
   "metadata": {
    "id": "gjsaY3o2aQ9I"
   },
   "outputs": [],
   "source": [
    "# from gc import callbacks\n",
    "# ann = models.Sequential([\n",
    "#         layers.Flatten(input_shape=(32,32,3)),\n",
    "#         layers.Dense(3000, activation='relu'),\n",
    "#         layers.Dense(1000, activation='relu'),\n",
    "#         layers.Dense(10, activation='softmax')   ])\n",
    "\n",
    "# tensorboard_callback = tf.keras.callbacks.TensorBoard(log_dir='logs/sequentialsgd', histogram_freq=1)\n",
    "\n",
    "# ann.compile(optimizer='SGD',\n",
    "#               loss='sparse_categorical_crossentropy',\n",
    "#               metrics=['accuracy'])\n",
    "\n",
    "# history = ann.fit(X_train, y_train, epochs=5,callbacks = [tensorboard_callback])"
   ]
  },
  {
   "cell_type": "code",
   "execution_count": null,
   "metadata": {
    "id": "Wv402B3Svxcf"
   },
   "outputs": [],
   "source": [
    "# %load_ext tensorboard\n",
    "# %tensorboard --logdir logs"
   ]
  },
  {
   "cell_type": "code",
   "execution_count": null,
   "metadata": {
    "id": "PDNH9HJ0bqkO"
   },
   "outputs": [],
   "source": [
    "# ann.evaluate(X_test,y_test)"
   ]
  },
  {
   "cell_type": "code",
   "execution_count": null,
   "metadata": {
    "id": "GDvgwff8c5QW"
   },
   "outputs": [],
   "source": [
    "# from sklearn.metrics import confusion_matrix, classification_report\n",
    "# import numpy as np\n",
    "# y_pred = ann.predict(X_test)\n",
    "# y_pred_classes = [np.argmax(element) for element in y_pred]\n",
    "\n",
    "# print(\"Classification Report: \\n\", classification_report(y_test, y_pred_classes))"
   ]
  },
  {
   "cell_type": "markdown",
   "metadata": {},
   "source": [
    "## neural network"
   ]
  },
  {
   "cell_type": "code",
   "execution_count": null,
   "metadata": {
    "colab": {
     "base_uri": "https://localhost:8080/"
    },
    "id": "Dt97yy1Oc6Ck",
    "outputId": "35956750-635c-4546-b521-cc7d43027027"
   },
   "outputs": [
    {
     "name": "stdout",
     "output_type": "stream",
     "text": [
      "Epoch 1/10\n",
      "500/500 [==============================] - 13s 4ms/step - loss: 1.6934 - accuracy: 0.3936\n",
      "Epoch 2/10\n",
      "500/500 [==============================] - 2s 4ms/step - loss: 1.3405 - accuracy: 0.5269\n",
      "Epoch 3/10\n",
      "500/500 [==============================] - 2s 4ms/step - loss: 1.1850 - accuracy: 0.5864\n",
      "Epoch 4/10\n",
      "500/500 [==============================] - 2s 4ms/step - loss: 1.0920 - accuracy: 0.6167\n",
      "Epoch 5/10\n",
      "500/500 [==============================] - 2s 3ms/step - loss: 1.0012 - accuracy: 0.6516\n",
      "Epoch 6/10\n",
      "500/500 [==============================] - 2s 4ms/step - loss: 0.9852 - accuracy: 0.6598\n",
      "Epoch 7/10\n",
      "500/500 [==============================] - 2s 4ms/step - loss: 0.9008 - accuracy: 0.6902\n",
      "Epoch 8/10\n",
      "500/500 [==============================] - 2s 4ms/step - loss: 0.8919 - accuracy: 0.6930\n",
      "Epoch 9/10\n",
      "500/500 [==============================] - 2s 4ms/step - loss: 0.8201 - accuracy: 0.7136\n",
      "Epoch 10/10\n",
      "500/500 [==============================] - 2s 4ms/step - loss: 0.8169 - accuracy: 0.7196\n"
     ]
    }
   ],
   "source": [
    "cnn = models.Sequential([\n",
    "    layers.Conv2D(filters=32, kernel_size=(3, 3), activation='relu', input_shape=(32, 32, 3)),\n",
    "    layers.MaxPooling2D((2, 2)),\n",
    "    layers.Conv2D(filters=64, kernel_size=(3, 3), activation='relu'),\n",
    "    layers.MaxPooling2D((2, 2)),\n",
    "    layers.Flatten(),\n",
    "    layers.Dense(64,activation = 'relu'),\n",
    "    layers.Dense(10, activation='sigmoid')\n",
    "])\n",
    "\n",
    "cnn.compile(optimizer=tf.keras.optimizers.RMSprop(),\n",
    "              loss='sparse_categorical_crossentropy',\n",
    "              metrics=['accuracy'])\n",
    "\n",
    "history = cnn.fit(X_train, y_train, epochs=10,batch_size = 50,steps_per_epoch = 500)\n",
    "\n",
    "# df = pd.DataFrame(history.history)\n",
    "# df['epochs'] = history.epoch\n",
    "# df.to_csv('Nadam_0.001_500.csv')"
   ]
  },
  {
   "cell_type": "markdown",
   "metadata": {},
   "source": [
    "## Evaluate on test set"
   ]
  },
  {
   "cell_type": "code",
   "execution_count": null,
   "metadata": {
    "colab": {
     "base_uri": "https://localhost:8080/"
    },
    "id": "zem9x1Uh86rz",
    "outputId": "d9fe3d9c-7288-4d4d-8313-9469938abede"
   },
   "outputs": [
    {
     "name": "stdout",
     "output_type": "stream",
     "text": [
      "313/313 [==============================] - 1s 3ms/step - loss: 0.9634 - accuracy: 0.6717\n"
     ]
    },
    {
     "data": {
      "text/plain": [
       "[0.963441789150238, 0.6717000007629395]"
      ]
     },
     "execution_count": 21,
     "metadata": {},
     "output_type": "execute_result"
    }
   ],
   "source": [
    "cnn.evaluate(X_test,y_test)"
   ]
  },
  {
   "cell_type": "code",
   "execution_count": null,
   "metadata": {
    "id": "ecZ5jkLPOr2d"
   },
   "outputs": [],
   "source": [
    "# from sklearn.metrics import confusion_matrix\n",
    "# import seaborn as sns\n",
    "# y_pred = cnn.predict(X_test)\n",
    "# ypredicted_labels = [np.argmax(i) for i in y_pred]\n",
    "# cm = confusion_matrix(y_test,ypredicted_labels)\n",
    "# plt.figure(figsize = (10,10))\n",
    "# sns.heatmap(cm,annot = True,cmap=\"coolwarm\")\n",
    "# plt.savefig('ConfusionRMS.png')"
   ]
  },
  {
   "cell_type": "code",
   "execution_count": null,
   "metadata": {
    "id": "qVvvPGIotl-d"
   },
   "outputs": [],
   "source": [
    "cnn.evaluate(X_test,y_test)"
   ]
  },
  {
   "cell_type": "markdown",
   "metadata": {
    "id": "mPF1YyHE_A82"
   },
   "source": [
    "## Add learning rate column to csv files"
   ]
  },
  {
   "cell_type": "code",
   "execution_count": null,
   "metadata": {
    "id": "iAji9qtie3oA"
   },
   "outputs": [],
   "source": [
    "import glob\n",
    "import seaborn as sns\n",
    "import pandas as pd"
   ]
  },
  {
   "cell_type": "code",
   "execution_count": null,
   "metadata": {
    "id": "-5uXgoF3Fs4_"
   },
   "outputs": [],
   "source": [
    "best_models = ['/content/Adam_0.001_500.csv','/content/SGD_0.1_500.csv','/content/RMSProp_0.001_500.csv',\n",
    "               '/content/Nadam_0.001_500.csv']"
   ]
  },
  {
   "cell_type": "code",
   "execution_count": null,
   "metadata": {
    "id": "VRLlj0DeB1RB"
   },
   "outputs": [],
   "source": [
    "adam = pd.read_csv(best_models[0])\n",
    "adam['Optimizer'] = 'Adam'\n",
    "sgd = pd.read_csv(best_models[1])\n",
    "sgd['Optimizer'] = 'SGD'\n",
    "rms = pd.read_csv(best_models[2])\n",
    "rms['Optimizer'] = 'RMS'\n",
    "nadam = pd.read_csv(best_models[3])\n",
    "nadam['Optimizer'] = 'NAdam'\n",
    "\n",
    "combined = pd.DataFrame({'Epochs':adam['epochs'],\n",
    "                         \"Adam-Acc\":adam['accuracy'],\n",
    "                         \"SGD-Acc\":sgd['accuracy'],\n",
    "                         \"NAdam-ACC\":nadam['accuracy'],\n",
    "                         \"RMS-ACC\":rms['accuracy']})\n",
    "\n",
    "combined['Epochs']+=1"
   ]
  },
  {
   "cell_type": "code",
   "execution_count": null,
   "metadata": {
    "id": "WmQ5_J6DHzz9"
   },
   "outputs": [],
   "source": [
    "sns.set(rc={'axes.facecolor':'#e5e5ff', 'figure.facecolor':'#e5e5ff'})\n",
    "sns.lineplot(x = 'Epochs',y = 'Adam-Acc',data = combined)\n",
    "sns.lineplot(x = 'Epochs',y = 'SGD-Acc',data = combined)\n",
    "sns.lineplot(x = 'Epochs',y = 'NAdam-ACC',data = combined)\n",
    "sns.lineplot(x = 'Epochs',y = 'RMS-ACC',data = combined)\n",
    "plt.legend(['Adam','SGD','Nadam','RMS'])\n",
    "plt.ylabel('Accuracy')\n",
    "plt.xlim((0,21))\n",
    "plt.grid(True)\n",
    "plt.savefig('Epoch_Accuracy_Combined.png',dpi = 500)"
   ]
  },
  {
   "cell_type": "markdown",
   "metadata": {
    "id": "fpSDqDmsjdua"
   },
   "source": [
    "## Gradio Application(Gui)"
   ]
  },
  {
   "cell_type": "code",
   "execution_count": null,
   "metadata": {
    "id": "IJuJAJMJji_C"
   },
   "outputs": [],
   "source": [
    "# pip install gradio"
   ]
  },
  {
   "cell_type": "code",
   "execution_count": null,
   "metadata": {
    "id": "uUmfdKPur-tV"
   },
   "outputs": [],
   "source": [
    "# MobileNet = tf.keras.applications.MobileNet(input_shape=(224,224,3))\n",
    "\n",
    "# model = models.Sequential()\n",
    "# model.add(layers.Resizing(224,224))\n",
    "# model.add(MobileNet)\n",
    "\n",
    "# model.compile('adam',loss = 'sparse_categorical_crossentropy',metrics = ['accuracy'])\n",
    "\n",
    "# mobileNET = model.fit(X_train,y_train,epochs = 20,steps_per_epoch=50,batch_size= 50)"
   ]
  },
  {
   "cell_type": "code",
   "execution_count": null,
   "metadata": {
    "id": "KjIzmiJ_1gbn"
   },
   "outputs": [],
   "source": [
    "# model.save('mnet.h5')"
   ]
  },
  {
   "cell_type": "code",
   "execution_count": null,
   "metadata": {
    "id": "OZyhRsyg1xFW"
   },
   "outputs": [],
   "source": [
    "# from keras.models import load_model\n",
    "# new_model = load_model('mnet.h5')"
   ]
  },
  {
   "cell_type": "code",
   "execution_count": null,
   "metadata": {
    "id": "oHmommwN6aIi"
   },
   "outputs": [],
   "source": [
    "# inception_net = tf.keras.applications.MobileNetV2()"
   ]
  },
  {
   "cell_type": "code",
   "execution_count": null,
   "metadata": {
    "id": "yqazahAm9mUS"
   },
   "outputs": [],
   "source": [
    "# pip install gradio"
   ]
  },
  {
   "cell_type": "code",
   "execution_count": null,
   "metadata": {
    "id": "_hxf7m3piuoM"
   },
   "outputs": [],
   "source": [
    "import gradio as gr\n",
    "import cv2\n",
    "\n",
    "def cnnModel(ip):\n",
    "  image = cv2.resize(ip,(32,32))\n",
    "  inp = image.reshape(-1, image.shape[0], image.shape[1], 3)\n",
    "  prediction = np.ravel(cnn.predict(inp))\n",
    "  confidences = {classes[i]: float(prediction[i]) for i in range(10)}\n",
    "  y_label =np.argmax(prediction)\n",
    "  return confidences"
   ]
  },
  {
   "cell_type": "code",
   "execution_count": null,
   "metadata": {
    "colab": {
     "base_uri": "https://localhost:8080/",
     "height": 662
    },
    "id": "Tnfe2bW7B3aF",
    "outputId": "29b0b0d8-4e3f-4806-ebd9-e079b3a8fce7"
   },
   "outputs": [
    {
     "name": "stderr",
     "output_type": "stream",
     "text": [
      "/usr/local/lib/python3.7/dist-packages/gradio/deprecation.py:40: UserWarning: `optional` parameter is deprecated, and it has no effect\n",
      "  warnings.warn(value)\n",
      "/usr/local/lib/python3.7/dist-packages/gradio/deprecation.py:40: UserWarning: The 'type' parameter has been deprecated. Use the Number component instead.\n",
      "  warnings.warn(value)\n"
     ]
    },
    {
     "name": "stdout",
     "output_type": "stream",
     "text": [
      "Colab notebook detected. This cell will run indefinitely so that you can see errors and logs. To turn off, set debug=False in launch().\n",
      "Running on public URL: https://22439.gradio.app\n",
      "\n",
      "This share link expires in 72 hours. For free permanent hosting, check out Spaces (https://huggingface.co/spaces)\n"
     ]
    },
    {
     "data": {
      "text/html": [
       "\n",
       "        <iframe\n",
       "            width=\"900\"\n",
       "            height=\"500\"\n",
       "            src=\"https://22439.gradio.app\"\n",
       "            frameborder=\"0\"\n",
       "            allowfullscreen\n",
       "        ></iframe>\n",
       "        "
      ],
      "text/plain": [
       "<IPython.lib.display.IFrame at 0x7f6d1ba60750>"
      ]
     },
     "metadata": {},
     "output_type": "display_data"
    }
   ],
   "source": [
    "gr.Interface(fn=cnnModel, \n",
    "             inputs=gr.inputs.Image(shape=(32, 32)),\n",
    "             outputs=gr.outputs.Label(num_top_classes=10),\n",
    "             examples=[\"frog.jpg\", \"car.jpg\",\"cat.jpg\",\"horse.jpg\"]).launch(debug = True)"
   ]
  },
  {
   "cell_type": "code",
   "execution_count": null,
   "metadata": {
    "id": "n7V7iG5dB72S"
   },
   "outputs": [],
   "source": []
  }
 ],
 "metadata": {
  "accelerator": "GPU",
  "colab": {
   "collapsed_sections": [],
   "name": "NeuralNetwork",
   "provenance": []
  },
  "kernelspec": {
   "display_name": "Python 3",
   "language": "python",
   "name": "python3"
  },
  "language_info": {
   "codemirror_mode": {
    "name": "ipython",
    "version": 3
   },
   "file_extension": ".py",
   "mimetype": "text/x-python",
   "name": "python",
   "nbconvert_exporter": "python",
   "pygments_lexer": "ipython3",
   "version": "3.8.5"
  }
 },
 "nbformat": 4,
 "nbformat_minor": 1
}
